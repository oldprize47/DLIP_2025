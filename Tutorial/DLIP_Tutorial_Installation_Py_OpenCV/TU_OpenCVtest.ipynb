{
 "cells": [
  {
   "cell_type": "code",
   "execution_count": null,
   "id": "5433888d",
   "metadata": {},
   "outputs": [
    {
     "name": "stdout",
     "output_type": "stream",
     "text": [
      "[1 4 9]\n"
     ]
    }
   ],
   "source": [
    "import numpy as np\n",
    "import cv2 as cv\n",
    "from matplotlib import pyplot as plt\n",
    "\n",
    "# a simple numpy test\n",
    "a = np.array([1,2,3])\n",
    "print(a*a)\n",
    "\n",
    "# Load image\n",
    "img = cv.imread('testImage.jpg')\n",
    "\n",
    "# Display Image\n",
    "cv.namedWindow('source', cv.WINDOW_AUTOSIZE) \n",
    "cv.imshow('source',img)\n",
    "cv.waitKey(0)"
   ]
  },
  {
   "cell_type": "code",
   "execution_count": 1,
   "id": "7ab01800",
   "metadata": {},
   "outputs": [
    {
     "name": "stdout",
     "output_type": "stream",
     "text": [
      "Press ESC to stop\n"
     ]
    }
   ],
   "source": [
    "import cv2 as cv\n",
    "\n",
    "# Open the video camera no.0\n",
    "cap = cv.VideoCapture(0)\n",
    "\n",
    "# If not success, exit the program\n",
    "if not cap.isOpened():\n",
    "    print('Cannot open camera')\n",
    "\n",
    "cv.namedWindow('MyVideo', cv.WINDOW_AUTOSIZE)\n",
    "\n",
    "while True:\n",
    "    # Read a new frame from video\n",
    "    ret, frame = cap.read()\n",
    "\n",
    "    # If not success, break loop\n",
    "    if not ret:\n",
    "        print('Cannot read frame')\n",
    "        break\n",
    "\n",
    "    cv.imshow('MyVideo', frame)\n",
    "\n",
    "    if cv.waitKey(30) & 0xFF == 27:\n",
    "        print('Press ESC to stop')\n",
    "        break\n",
    "\n",
    "cv.destroyAllWindows()\n",
    "cap.release()"
   ]
  }
 ],
 "metadata": {
  "kernelspec": {
   "display_name": "py39",
   "language": "python",
   "name": "python3"
  },
  "language_info": {
   "codemirror_mode": {
    "name": "ipython",
    "version": 3
   },
   "file_extension": ".py",
   "mimetype": "text/x-python",
   "name": "python",
   "nbconvert_exporter": "python",
   "pygments_lexer": "ipython3",
   "version": "3.9.22"
  }
 },
 "nbformat": 4,
 "nbformat_minor": 5
}
