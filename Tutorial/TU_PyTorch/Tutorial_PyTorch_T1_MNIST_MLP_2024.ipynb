{
 "cells": [
  {
   "cell_type": "markdown",
   "metadata": {
    "id": "d0yKMyUBeU3P"
   },
   "source": [
    "# **DLIP Tutorial - PyTorch**\n",
    "\n",
    "## MNIST Classification using PyTorch\n",
    "Y.-K. Kim\n",
    "(updated 2024. 4. 29)\n",
    "\n"
   ]
  },
  {
   "cell_type": "markdown",
   "metadata": {},
   "source": [
    "## For CoLab Usage:\n",
    "\n",
    "1. Download this notebook\n",
    "2. Then, open in Colab"
   ]
  },
  {
   "cell_type": "markdown",
   "metadata": {
    "id": "ZO152O2SzILP"
   },
   "source": [
    "The purpose of this tutorial is to learn how to build a simple Multi-Layer Percentron (MLP or ANN) for classification of handwritting digits (MNIST)\n",
    "\n",
    "==================="
   ]
  },
  {
   "cell_type": "markdown",
   "metadata": {
    "id": "3lHqSoDaeUSs"
   },
   "source": [
    "## Setup Pytorch and Numpy and GPU"
   ]
  },
  {
   "cell_type": "code",
   "execution_count": 46,
   "metadata": {
    "ExecuteTime": {
     "end_time": "2024-04-29T06:14:54.425674Z",
     "start_time": "2024-04-29T06:14:51.384129Z"
    },
    "colab": {
     "base_uri": "https://localhost:8080/"
    },
    "id": "y228XLuj1215",
    "outputId": "46767815-1b31-4e62-acbd-22cd6fbd870c"
   },
   "outputs": [
    {
     "name": "stdout",
     "output_type": "stream",
     "text": [
      "2.7.0+cu128\n"
     ]
    }
   ],
   "source": [
    "import torch \n",
    "import torch.nn as nn\n",
    "import torch.nn.functional as F\n",
    "import torchvision\n",
    "import torchvision.transforms as transforms\n",
    "from torch.utils.data import DataLoader\n",
    "from torchvision import datasets\n",
    "from torchvision.transforms import ToTensor\n",
    "\n",
    "import numpy as np \n",
    "import matplotlib.pyplot as plt\n",
    "\n",
    "print(torch.__version__)"
   ]
  },
  {
   "cell_type": "code",
   "execution_count": 47,
   "metadata": {
    "ExecuteTime": {
     "end_time": "2024-04-29T06:15:06.327791Z",
     "start_time": "2024-04-29T06:15:06.290513Z"
    },
    "colab": {
     "base_uri": "https://localhost:8080/"
    },
    "id": "shdSXuyuE1rJ",
    "outputId": "4ac19d45-8223-4df7-c1c9-8d91f8d3f0dd"
   },
   "outputs": [
    {
     "name": "stdout",
     "output_type": "stream",
     "text": [
      "Using cuda device\n"
     ]
    }
   ],
   "source": [
    "# Select GPU or CPU for training.\n",
    "device = \"cuda\" if torch.cuda.is_available() else \"cpu\"\n",
    "print(f\"Using {device} device\")"
   ]
  },
  {
   "cell_type": "markdown",
   "metadata": {
    "id": "blEBaK0ugMUS"
   },
   "source": [
    "## Prepare Datasets\n",
    "### OpenDataset from TorchVision"
   ]
  },
  {
   "cell_type": "markdown",
   "metadata": {
    "id": "y0odtPtd2bzl"
   },
   "source": [
    "\n",
    "1. Loading OpenDataset (Fashion MNIST) from Pytorch data\n",
    "* ``Dataset``:  stores the samples and their corresponding labels\n",
    "* ``DataLoader`` wraps an iterable around the ``Dataset``.\n"
   ]
  },
  {
   "cell_type": "code",
   "execution_count": 48,
   "metadata": {
    "ExecuteTime": {
     "end_time": "2024-04-29T06:17:34.426945Z",
     "start_time": "2024-04-29T06:15:20.552576Z"
    },
    "id": "r8PiOEFx2bzn"
   },
   "outputs": [],
   "source": [
    "# Download Dataset from TorchVision MNIST\n",
    "# Once, downloaded locally, it does not download again.\n",
    "training_data = datasets.MNIST(\n",
    "    root=\"data\",\n",
    "    train=True,\n",
    "    download=True,\n",
    "    transform=ToTensor(),   #converts 0~255 value to 0~1 value.\n",
    ")\n",
    "\n",
    "# Download test data from open datasets.\n",
    "test_data = datasets.MNIST(\n",
    "    root=\"data\",\n",
    "    train=False,\n",
    "    download=True,\n",
    "    transform=ToTensor(),\n",
    ")"
   ]
  },
  {
   "cell_type": "markdown",
   "metadata": {
    "id": "Uel8Ptvr2bzo"
   },
   "source": [
    "2. Use  ``DataLoader`` to  make dataset iterable.\n",
    "* supports automatic batching, sampling, shuffling and multiprocess data loading.\n",
    "\n"
   ]
  },
  {
   "cell_type": "code",
   "execution_count": 49,
   "metadata": {
    "ExecuteTime": {
     "end_time": "2024-04-29T06:17:48.557053Z",
     "start_time": "2024-04-29T06:17:48.544047Z"
    },
    "colab": {
     "base_uri": "https://localhost:8080/"
    },
    "id": "zdFdt1pe2bzo",
    "outputId": "31d160c7-ae30-49bc-c936-b6176ddea0c2"
   },
   "outputs": [
    {
     "name": "stdout",
     "output_type": "stream",
     "text": [
      "Shape of X [N, C, H, W]: torch.Size([64, 1, 28, 28])\n",
      "Shape of y: torch.Size([64]) torch.int64\n"
     ]
    }
   ],
   "source": [
    "# Create DataLoader with Batch size N\n",
    "batch_size = 64\n",
    "train_dataloader = DataLoader(training_data, batch_size=batch_size, shuffle=True)\n",
    "test_dataloader = DataLoader(test_data, batch_size=batch_size, shuffle=True)\n",
    "\n",
    "for X, y in test_dataloader:\n",
    "    # N = batch_size, C = chanel, \n",
    "    print(f\"Shape of X [N, C, H, W]: {X.shape}\")\n",
    "    print(f\"Shape of y: {y.shape} {y.dtype}\")\n",
    "    break"
   ]
  },
  {
   "cell_type": "markdown",
   "metadata": {
    "id": "QQ7CqtrmG0mp"
   },
   "source": [
    "3. Plot some training data\n"
   ]
  },
  {
   "cell_type": "code",
   "execution_count": 50,
   "metadata": {
    "ExecuteTime": {
     "end_time": "2024-04-29T06:18:47.995259Z",
     "start_time": "2024-04-29T06:18:47.751701Z"
    },
    "id": "ccpGGs8dG4dR"
   },
   "outputs": [
    {
     "data": {
      "image/png": "[encoded data removed]",
      "text/plain": [
       "<Figure size 640x480 with 9 Axes>"
      ]
     },
     "metadata": {},
     "output_type": "display_data"
    }
   ],
   "source": [
    "# Visualize some Datasets\n",
    "dataiter = iter(train_dataloader)\n",
    "images, labels = next(dataiter)\n",
    "\n",
    "figure = plt.figure()\n",
    "num_of_images = 9\n",
    "for index in range(num_of_images):\n",
    "    plt.subplot(3, 3, index+1)\n",
    "    plt.axis('off')\n",
    "    plt.title(\"Ground Truth: {}\".format(labels[index]))\n",
    "    plt.imshow(images[index].numpy().squeeze(), cmap='gray_r')"
   ]
  },
  {
   "cell_type": "markdown",
   "metadata": {
    "id": "slHZqHyYFZ7p"
   },
   "source": [
    "# Define model\n",
    "\n",
    "create a class that inherits from nn.Module\n",
    "\n",
    "\n",
    "* Define the layers of the network in  __init__ function\n",
    "* Specify Forward network in the **forward function.**"
   ]
  },
  {
   "cell_type": "markdown",
   "metadata": {
    "id": "wZw6AmlIk3OD"
   },
   "source": [
    "![](https://github.com/bentrevett/pytorch-image-classification/blob/master/assets/mlp-mnist.png?raw=1)\n",
    "\n",
    "\n",
    "* Image Input: 1x28x28  image\n",
    "* Flatten into a 1*784 element vector\n",
    "* 1st Layer: linear to 250 dimensions / ReLU\n",
    "* 2nd Layer: linear to 100 dim / ReLU\n",
    "* 3rd Layer: linear to 10 dim / log SoftMax\n",
    "* Output:  1x10\n",
    "\n",
    "Actication function: ReLU\n",
    "\n",
    "**NOTE**\n",
    "\n",
    "\n",
    "1) nn.Linear(InputDim, OutputDim)\n",
    "\n",
    "\n",
    "2) x.view( )\n",
    "* Similar to  NumPy Reshape(). /// [batch size, height * width]"
   ]
  },
  {
   "cell_type": "code",
   "execution_count": 51,
   "metadata": {
    "ExecuteTime": {
     "end_time": "2024-04-29T06:19:02.089866Z",
     "start_time": "2024-04-29T06:19:01.984741Z"
    },
    "colab": {
     "base_uri": "https://localhost:8080/"
    },
    "id": "lfyWWHhon11D",
    "outputId": "cd9f866c-ea93-4834-9dbe-d378bd6d3e7a"
   },
   "outputs": [
    {
     "name": "stdout",
     "output_type": "stream",
     "text": [
      "MLP(\n",
      "  (flatten): Flatten(start_dim=1, end_dim=-1)\n",
      "  (linear1): Linear(in_features=784, out_features=250, bias=True)\n",
      "  (linear2): Linear(in_features=250, out_features=100, bias=True)\n",
      "  (linear3): Linear(in_features=100, out_features=10, bias=True)\n",
      ")\n"
     ]
    }
   ],
   "source": [
    "# Model Architecture\n",
    "class MLP(nn.Module):\n",
    "    def __init__(self):\n",
    "        super(MLP, self).__init__()\n",
    "        self.flatten = nn.Flatten()             # 2D -> 1D\n",
    "        self.linear1 = nn.Linear(28*28, 250)    # Weight\n",
    "        self.linear2 = nn.Linear(250, 100)      # \n",
    "        self.linear3 = nn.Linear(100, 10)\n",
    "\n",
    "\n",
    "    def forward(self, x):\n",
    "        x=self.flatten(x)\n",
    "        x= F.relu(self.linear1(x))\n",
    "        x = F.relu(self.linear2(x))\n",
    "        y_pred = F.log_softmax(self.linear3(x))\n",
    "        return y_pred\n",
    "\n",
    "\n",
    "model = MLP().to(device)\n",
    "print(model)"
   ]
  },
  {
   "cell_type": "markdown",
   "metadata": {
    "id": "0fDrJCT_esSf"
   },
   "source": [
    "## Weight Initialization\n",
    " In Keras, dense layers by default uses “glorot_uniform” random initializer, it is also called Xavier normal initializer."
   ]
  },
  {
   "cell_type": "markdown",
   "metadata": {
    "id": "Z5SxTs1he7Df"
   },
   "source": [
    "# Optimization Setup  \n",
    "\n",
    "### Optmizer function\n",
    " Gradient descent is the common optimisation strategy used in neural networks. Many of the variants and advanced optimisation functions now are available,\n",
    "  \n",
    "- Stochastic Gradient Descent, Adagrade, Adam, etc"
   ]
  },
  {
   "cell_type": "markdown",
   "metadata": {},
   "source": [
    "### Loss function\n",
    "\n",
    "1. Linear regression->Mean Squared Error\n",
    "2. Classification->Cross entropy,"
   ]
  },
  {
   "cell_type": "code",
   "execution_count": 52,
   "metadata": {
    "ExecuteTime": {
     "end_time": "2024-04-29T06:19:11.791904Z",
     "start_time": "2024-04-29T06:19:11.773862Z"
    },
    "id": "be3HOqoeipmU"
   },
   "outputs": [],
   "source": [
    "# Loss Function\n",
    "loss_fn = nn.CrossEntropyLoss()\n",
    "\n",
    "# Optimizer\n",
    "optimizer = torch.optim.SGD(model.parameters(), lr=1e-3)    # Loss 기울기 -> Weight Update"
   ]
  },
  {
   "cell_type": "markdown",
   "metadata": {
    "id": "LZS7b363jAzB"
   },
   "source": [
    "# Train the model\n",
    "### Define train() function\n",
    "Reuse this function in other tutorials\n"
   ]
  },
  {
   "cell_type": "code",
   "execution_count": 53,
   "metadata": {
    "ExecuteTime": {
     "end_time": "2024-04-29T06:19:14.791255Z",
     "start_time": "2024-04-29T06:19:14.774222Z"
    },
    "id": "tweilksdivvD"
   },
   "outputs": [],
   "source": [
    "# Train Module\n",
    "def train(dataloader, model, loss_fn, optimizer):\n",
    "    # Dataset Size\n",
    "    size = len(dataloader.dataset)\n",
    "    \n",
    "    # Model in Training Mode\n",
    "    model.train()\n",
    "\n",
    "    running_loss=0.0\n",
    "\n",
    "    for batch, (X, y) in enumerate(dataloader):     # X: Batch, y = Label\n",
    "        X, y = X.to(device), y.to(device)\n",
    "\n",
    "        # zero gradients for every batch\n",
    "        optimizer.zero_grad()   \n",
    "\n",
    "        # Compute prediction loss \n",
    "        pred = model(X)\n",
    "        loss = loss_fn(pred, y)\n",
    "\n",
    "        # Backpropagation and Update        \n",
    "        loss.backward()\n",
    "        optimizer.step()        \n",
    "\n",
    "        # Print loss for every 100 batch in an epoch\n",
    "        running_loss+=loss.item()\n",
    "        if batch % 100 == 0:\n",
    "            running_loss=running_loss/100\n",
    "            current = batch * len(X)\n",
    "            print(f\"loss: {running_loss:>7f}  [{current:>5d}/{size:>5d}]\")\n",
    "            running_loss=0"
   ]
  },
  {
   "cell_type": "markdown",
   "metadata": {
    "id": "QQ6lGq6UJPVw"
   },
   "source": [
    "### Train\n",
    "Print training process"
   ]
  },
  {
   "cell_type": "code",
   "execution_count": 54,
   "metadata": {
    "ExecuteTime": {
     "end_time": "2024-04-29T06:19:28.038671Z",
     "start_time": "2024-04-29T06:19:20.111572Z"
    },
    "id": "5--jTU4tJS0Y"
   },
   "outputs": [
    {
     "name": "stdout",
     "output_type": "stream",
     "text": [
      "Epoch 1\n",
      "-------------------------------\n",
      "loss: 0.023142  [    0/60000]\n"
     ]
    },
    {
     "name": "stderr",
     "output_type": "stream",
     "text": [
      "C:\\Users\\Sangheon\\AppData\\Local\\Temp\\ipykernel_29672\\889195615.py:15: UserWarning: Implicit dimension choice for log_softmax has been deprecated. Change the call to include dim=X as an argument.\n",
      "  y_pred = F.log_softmax(self.linear3(x))\n"
     ]
    },
    {
     "name": "stdout",
     "output_type": "stream",
     "text": [
      "loss: 2.303102  [ 6400/60000]\n",
      "loss: 2.301183  [12800/60000]\n",
      "loss: 2.296006  [19200/60000]\n",
      "loss: 2.294169  [25600/60000]\n",
      "loss: 2.290559  [32000/60000]\n",
      "loss: 2.286496  [38400/60000]\n",
      "loss: 2.283567  [44800/60000]\n",
      "loss: 2.281484  [51200/60000]\n",
      "loss: 2.276580  [57600/60000]\n",
      "Epoch 2\n",
      "-------------------------------\n",
      "loss: 0.022723  [    0/60000]\n",
      "loss: 2.271342  [ 6400/60000]\n",
      "loss: 2.265810  [12800/60000]\n",
      "loss: 2.263070  [19200/60000]\n",
      "loss: 2.259035  [25600/60000]\n",
      "loss: 2.252522  [32000/60000]\n",
      "loss: 2.248919  [38400/60000]\n",
      "loss: 2.243382  [44800/60000]\n",
      "loss: 2.238076  [51200/60000]\n",
      "loss: 2.233184  [57600/60000]\n",
      "Epoch 3\n",
      "-------------------------------\n",
      "loss: 0.022321  [    0/60000]\n",
      "loss: 2.222424  [ 6400/60000]\n",
      "loss: 2.217766  [12800/60000]\n",
      "loss: 2.209396  [19200/60000]\n",
      "loss: 2.203542  [25600/60000]\n",
      "loss: 2.195581  [32000/60000]\n",
      "loss: 2.187788  [38400/60000]\n",
      "loss: 2.178310  [44800/60000]\n",
      "loss: 2.169333  [51200/60000]\n",
      "loss: 2.158847  [57600/60000]\n",
      "Epoch 4\n",
      "-------------------------------\n",
      "loss: 0.021673  [    0/60000]\n",
      "loss: 2.143735  [ 6400/60000]\n",
      "loss: 2.136287  [12800/60000]\n",
      "loss: 2.120762  [19200/60000]\n",
      "loss: 2.107720  [25600/60000]\n",
      "loss: 2.092284  [32000/60000]\n",
      "loss: 2.084686  [38400/60000]\n",
      "loss: 2.070112  [44800/60000]\n",
      "loss: 2.052627  [51200/60000]\n",
      "loss: 2.037359  [57600/60000]\n",
      "Epoch 5\n",
      "-------------------------------\n",
      "loss: 0.020005  [    0/60000]\n",
      "loss: 2.006543  [ 6400/60000]\n",
      "loss: 1.993587  [12800/60000]\n",
      "loss: 1.970263  [19200/60000]\n",
      "loss: 1.956405  [25600/60000]\n",
      "loss: 1.928837  [32000/60000]\n",
      "loss: 1.911198  [38400/60000]\n",
      "loss: 1.883793  [44800/60000]\n",
      "loss: 1.863135  [51200/60000]\n",
      "loss: 1.836261  [57600/60000]\n",
      "Epoch 6\n",
      "-------------------------------\n",
      "loss: 0.018477  [    0/60000]\n",
      "loss: 1.800549  [ 6400/60000]\n",
      "loss: 1.764149  [12800/60000]\n",
      "loss: 1.743833  [19200/60000]\n",
      "loss: 1.719520  [25600/60000]\n",
      "loss: 1.685318  [32000/60000]\n",
      "loss: 1.667349  [38400/60000]\n",
      "loss: 1.632318  [44800/60000]\n",
      "loss: 1.601245  [51200/60000]\n",
      "loss: 1.566057  [57600/60000]\n",
      "Epoch 7\n",
      "-------------------------------\n",
      "loss: 0.016134  [    0/60000]\n",
      "loss: 1.534418  [ 6400/60000]\n",
      "loss: 1.499793  [12800/60000]\n",
      "loss: 1.464523  [19200/60000]\n",
      "loss: 1.438726  [25600/60000]\n",
      "loss: 1.403089  [32000/60000]\n",
      "loss: 1.378259  [38400/60000]\n",
      "loss: 1.351573  [44800/60000]\n",
      "loss: 1.324271  [51200/60000]\n",
      "loss: 1.294360  [57600/60000]\n",
      "Epoch 8\n",
      "-------------------------------\n",
      "loss: 0.012455  [    0/60000]\n",
      "loss: 1.259060  [ 6400/60000]\n",
      "loss: 1.230789  [12800/60000]\n",
      "loss: 1.208113  [19200/60000]\n",
      "loss: 1.183534  [25600/60000]\n",
      "loss: 1.165914  [32000/60000]\n",
      "loss: 1.137597  [38400/60000]\n",
      "loss: 1.115018  [44800/60000]\n",
      "loss: 1.077335  [51200/60000]\n",
      "loss: 1.068954  [57600/60000]\n",
      "Epoch 9\n",
      "-------------------------------\n",
      "loss: 0.010292  [    0/60000]\n",
      "loss: 1.040619  [ 6400/60000]\n",
      "loss: 1.032473  [12800/60000]\n",
      "loss: 0.996019  [19200/60000]\n",
      "loss: 0.985908  [25600/60000]\n",
      "loss: 0.953809  [32000/60000]\n",
      "loss: 0.947095  [38400/60000]\n",
      "loss: 0.928310  [44800/60000]\n",
      "loss: 0.938898  [51200/60000]\n",
      "loss: 0.904035  [57600/60000]\n",
      "Epoch 10\n",
      "-------------------------------\n",
      "loss: 0.009383  [    0/60000]\n",
      "loss: 0.880853  [ 6400/60000]\n",
      "loss: 0.861026  [12800/60000]\n",
      "loss: 0.849103  [19200/60000]\n",
      "loss: 0.850822  [25600/60000]\n",
      "loss: 0.845306  [32000/60000]\n",
      "loss: 0.810609  [38400/60000]\n",
      "loss: 0.823081  [44800/60000]\n",
      "loss: 0.792673  [51200/60000]\n",
      "loss: 0.788144  [57600/60000]\n",
      "Epoch 11\n",
      "-------------------------------\n",
      "loss: 0.008437  [    0/60000]\n",
      "loss: 0.764491  [ 6400/60000]\n",
      "loss: 0.783796  [12800/60000]\n",
      "loss: 0.748981  [19200/60000]\n",
      "loss: 0.755782  [25600/60000]\n",
      "loss: 0.744028  [32000/60000]\n",
      "loss: 0.716883  [38400/60000]\n",
      "loss: 0.714123  [44800/60000]\n",
      "loss: 0.705835  [51200/60000]\n",
      "loss: 0.698996  [57600/60000]\n",
      "Epoch 12\n",
      "-------------------------------\n",
      "loss: 0.006384  [    0/60000]\n",
      "loss: 0.691241  [ 6400/60000]\n",
      "loss: 0.698870  [12800/60000]\n",
      "loss: 0.684600  [19200/60000]\n",
      "loss: 0.663236  [25600/60000]\n",
      "loss: 0.668964  [32000/60000]\n",
      "loss: 0.659275  [38400/60000]\n",
      "loss: 0.662265  [44800/60000]\n",
      "loss: 0.639864  [51200/60000]\n",
      "loss: 0.638538  [57600/60000]\n",
      "Epoch 13\n",
      "-------------------------------\n",
      "loss: 0.005746  [    0/60000]\n",
      "loss: 0.643169  [ 6400/60000]\n",
      "loss: 0.624789  [12800/60000]\n",
      "loss: 0.612341  [19200/60000]\n",
      "loss: 0.608315  [25600/60000]\n",
      "loss: 0.625164  [32000/60000]\n",
      "loss: 0.602703  [38400/60000]\n",
      "loss: 0.604837  [44800/60000]\n",
      "loss: 0.591983  [51200/60000]\n",
      "loss: 0.604769  [57600/60000]\n",
      "Epoch 14\n",
      "-------------------------------\n",
      "loss: 0.006067  [    0/60000]\n",
      "loss: 0.577647  [ 6400/60000]\n",
      "loss: 0.589775  [12800/60000]\n",
      "loss: 0.585759  [19200/60000]\n",
      "loss: 0.573072  [25600/60000]\n",
      "loss: 0.567314  [32000/60000]\n",
      "loss: 0.553201  [38400/60000]\n",
      "loss: 0.576210  [44800/60000]\n",
      "loss: 0.583486  [51200/60000]\n",
      "loss: 0.539565  [57600/60000]\n",
      "Epoch 15\n",
      "-------------------------------\n",
      "loss: 0.005087  [    0/60000]\n",
      "loss: 0.553913  [ 6400/60000]\n",
      "loss: 0.546496  [12800/60000]\n",
      "loss: 0.564157  [19200/60000]\n",
      "loss: 0.533114  [25600/60000]\n",
      "loss: 0.545395  [32000/60000]\n",
      "loss: 0.524689  [38400/60000]\n",
      "loss: 0.537517  [44800/60000]\n",
      "loss: 0.524249  [51200/60000]\n",
      "loss: 0.535479  [57600/60000]\n",
      "Epoch 16\n",
      "-------------------------------\n",
      "loss: 0.003533  [    0/60000]\n",
      "loss: 0.510773  [ 6400/60000]\n",
      "loss: 0.524662  [12800/60000]\n",
      "loss: 0.517525  [19200/60000]\n",
      "loss: 0.519427  [25600/60000]\n",
      "loss: 0.505569  [32000/60000]\n",
      "loss: 0.503788  [38400/60000]\n",
      "loss: 0.504069  [44800/60000]\n",
      "loss: 0.496990  [51200/60000]\n",
      "loss: 0.515132  [57600/60000]\n",
      "Epoch 17\n",
      "-------------------------------\n",
      "loss: 0.006662  [    0/60000]\n",
      "loss: 0.497874  [ 6400/60000]\n",
      "loss: 0.505541  [12800/60000]\n",
      "loss: 0.481349  [19200/60000]\n",
      "loss: 0.500107  [25600/60000]\n",
      "loss: 0.489423  [32000/60000]\n",
      "loss: 0.475959  [38400/60000]\n",
      "loss: 0.479994  [44800/60000]\n",
      "loss: 0.478189  [51200/60000]\n",
      "loss: 0.494765  [57600/60000]\n",
      "Epoch 18\n",
      "-------------------------------\n",
      "loss: 0.005227  [    0/60000]\n",
      "loss: 0.472130  [ 6400/60000]\n",
      "loss: 0.472976  [12800/60000]\n",
      "loss: 0.469051  [19200/60000]\n",
      "loss: 0.484716  [25600/60000]\n",
      "loss: 0.482519  [32000/60000]\n",
      "loss: 0.465346  [38400/60000]\n",
      "loss: 0.465212  [44800/60000]\n",
      "loss: 0.462508  [51200/60000]\n",
      "loss: 0.462175  [57600/60000]\n",
      "Epoch 19\n",
      "-------------------------------\n",
      "loss: 0.004052  [    0/60000]\n",
      "loss: 0.471980  [ 6400/60000]\n",
      "loss: 0.468552  [12800/60000]\n",
      "loss: 0.458795  [19200/60000]\n",
      "loss: 0.451398  [25600/60000]\n",
      "loss: 0.443243  [32000/60000]\n",
      "loss: 0.445180  [38400/60000]\n",
      "loss: 0.449800  [44800/60000]\n",
      "loss: 0.460841  [51200/60000]\n",
      "loss: 0.437167  [57600/60000]\n",
      "Epoch 20\n",
      "-------------------------------\n",
      "loss: 0.005078  [    0/60000]\n",
      "loss: 0.440780  [ 6400/60000]\n",
      "loss: 0.429545  [12800/60000]\n",
      "loss: 0.445320  [19200/60000]\n",
      "loss: 0.436196  [25600/60000]\n",
      "loss: 0.444940  [32000/60000]\n",
      "loss: 0.442428  [38400/60000]\n",
      "loss: 0.450304  [44800/60000]\n",
      "loss: 0.434374  [51200/60000]\n",
      "loss: 0.437541  [57600/60000]\n",
      "Epoch 21\n",
      "-------------------------------\n",
      "loss: 0.003568  [    0/60000]\n",
      "loss: 0.443926  [ 6400/60000]\n",
      "loss: 0.435873  [12800/60000]\n",
      "loss: 0.424684  [19200/60000]\n",
      "loss: 0.434191  [25600/60000]\n",
      "loss: 0.423979  [32000/60000]\n",
      "loss: 0.434966  [38400/60000]\n",
      "loss: 0.418817  [44800/60000]\n",
      "loss: 0.412046  [51200/60000]\n",
      "loss: 0.419387  [57600/60000]\n",
      "Epoch 22\n",
      "-------------------------------\n",
      "loss: 0.002987  [    0/60000]\n",
      "loss: 0.428075  [ 6400/60000]\n",
      "loss: 0.424625  [12800/60000]\n",
      "loss: 0.413638  [19200/60000]\n",
      "loss: 0.416512  [25600/60000]\n",
      "loss: 0.410223  [32000/60000]\n",
      "loss: 0.403056  [38400/60000]\n",
      "loss: 0.413274  [44800/60000]\n",
      "loss: 0.422951  [51200/60000]\n",
      "loss: 0.418844  [57600/60000]\n",
      "Epoch 23\n",
      "-------------------------------\n",
      "loss: 0.003897  [    0/60000]\n",
      "loss: 0.417486  [ 6400/60000]\n",
      "loss: 0.428237  [12800/60000]\n",
      "loss: 0.416112  [19200/60000]\n",
      "loss: 0.378357  [25600/60000]\n",
      "loss: 0.407155  [32000/60000]\n",
      "loss: 0.404972  [38400/60000]\n",
      "loss: 0.401374  [44800/60000]\n",
      "loss: 0.402740  [51200/60000]\n",
      "loss: 0.403069  [57600/60000]\n",
      "Epoch 24\n",
      "-------------------------------\n",
      "loss: 0.003444  [    0/60000]\n",
      "loss: 0.395022  [ 6400/60000]\n",
      "loss: 0.397386  [12800/60000]\n",
      "loss: 0.398813  [19200/60000]\n",
      "loss: 0.398399  [25600/60000]\n",
      "loss: 0.383815  [32000/60000]\n",
      "loss: 0.401562  [38400/60000]\n",
      "loss: 0.390986  [44800/60000]\n",
      "loss: 0.413807  [51200/60000]\n",
      "loss: 0.417349  [57600/60000]\n",
      "Epoch 25\n",
      "-------------------------------\n",
      "loss: 0.003595  [    0/60000]\n",
      "loss: 0.395619  [ 6400/60000]\n",
      "loss: 0.394899  [12800/60000]\n",
      "loss: 0.386565  [19200/60000]\n",
      "loss: 0.390185  [25600/60000]\n",
      "loss: 0.406956  [32000/60000]\n",
      "loss: 0.383795  [38400/60000]\n",
      "loss: 0.395109  [44800/60000]\n",
      "loss: 0.388395  [51200/60000]\n",
      "loss: 0.375617  [57600/60000]\n",
      "Epoch 26\n",
      "-------------------------------\n",
      "loss: 0.003510  [    0/60000]\n",
      "loss: 0.376503  [ 6400/60000]\n",
      "loss: 0.378377  [12800/60000]\n",
      "loss: 0.354622  [19200/60000]\n",
      "loss: 0.405657  [25600/60000]\n",
      "loss: 0.383826  [32000/60000]\n",
      "loss: 0.383965  [38400/60000]\n",
      "loss: 0.395575  [44800/60000]\n",
      "loss: 0.373045  [51200/60000]\n",
      "loss: 0.391778  [57600/60000]\n",
      "Epoch 27\n",
      "-------------------------------\n",
      "loss: 0.003787  [    0/60000]\n",
      "loss: 0.374856  [ 6400/60000]\n",
      "loss: 0.378882  [12800/60000]\n",
      "loss: 0.397340  [19200/60000]\n",
      "loss: 0.358129  [25600/60000]\n",
      "loss: 0.388642  [32000/60000]\n",
      "loss: 0.371289  [38400/60000]\n",
      "loss: 0.371616  [44800/60000]\n",
      "loss: 0.381176  [51200/60000]\n",
      "loss: 0.373539  [57600/60000]\n",
      "Epoch 28\n",
      "-------------------------------\n",
      "loss: 0.002968  [    0/60000]\n",
      "loss: 0.356677  [ 6400/60000]\n",
      "loss: 0.367129  [12800/60000]\n",
      "loss: 0.387079  [19200/60000]\n",
      "loss: 0.399991  [25600/60000]\n",
      "loss: 0.376868  [32000/60000]\n",
      "loss: 0.353865  [38400/60000]\n",
      "loss: 0.375118  [44800/60000]\n",
      "loss: 0.359758  [51200/60000]\n",
      "loss: 0.372952  [57600/60000]\n",
      "Epoch 29\n",
      "-------------------------------\n",
      "loss: 0.003692  [    0/60000]\n",
      "loss: 0.370379  [ 6400/60000]\n",
      "loss: 0.368793  [12800/60000]\n",
      "loss: 0.361086  [19200/60000]\n",
      "loss: 0.387763  [25600/60000]\n",
      "loss: 0.358120  [32000/60000]\n",
      "loss: 0.369729  [38400/60000]\n",
      "loss: 0.368799  [44800/60000]\n",
      "loss: 0.346321  [51200/60000]\n",
      "loss: 0.354170  [57600/60000]\n",
      "Epoch 30\n",
      "-------------------------------\n",
      "loss: 0.004050  [    0/60000]\n",
      "loss: 0.347773  [ 6400/60000]\n",
      "loss: 0.375611  [12800/60000]\n",
      "loss: 0.359673  [19200/60000]\n",
      "loss: 0.367873  [25600/60000]\n",
      "loss: 0.358713  [32000/60000]\n",
      "loss: 0.345237  [38400/60000]\n",
      "loss: 0.367246  [44800/60000]\n",
      "loss: 0.362403  [51200/60000]\n",
      "loss: 0.349908  [57600/60000]\n",
      "Epoch 31\n",
      "-------------------------------\n",
      "loss: 0.004048  [    0/60000]\n",
      "loss: 0.366047  [ 6400/60000]\n",
      "loss: 0.354328  [12800/60000]\n",
      "loss: 0.354027  [19200/60000]\n",
      "loss: 0.363581  [25600/60000]\n",
      "loss: 0.350559  [32000/60000]\n",
      "loss: 0.359296  [38400/60000]\n",
      "loss: 0.339051  [44800/60000]\n",
      "loss: 0.348485  [51200/60000]\n",
      "loss: 0.362202  [57600/60000]\n",
      "Epoch 32\n",
      "-------------------------------\n",
      "loss: 0.002517  [    0/60000]\n",
      "loss: 0.342666  [ 6400/60000]\n",
      "loss: 0.346181  [12800/60000]\n",
      "loss: 0.347791  [19200/60000]\n",
      "loss: 0.348908  [25600/60000]\n",
      "loss: 0.334760  [32000/60000]\n",
      "loss: 0.381304  [38400/60000]\n",
      "loss: 0.346582  [44800/60000]\n",
      "loss: 0.347811  [51200/60000]\n",
      "loss: 0.364654  [57600/60000]\n",
      "Epoch 33\n",
      "-------------------------------\n",
      "loss: 0.001813  [    0/60000]\n",
      "loss: 0.347565  [ 6400/60000]\n",
      "loss: 0.356592  [12800/60000]\n",
      "loss: 0.327591  [19200/60000]\n",
      "loss: 0.354725  [25600/60000]\n",
      "loss: 0.337034  [32000/60000]\n",
      "loss: 0.338065  [38400/60000]\n",
      "loss: 0.346226  [44800/60000]\n",
      "loss: 0.348124  [51200/60000]\n",
      "loss: 0.365914  [57600/60000]\n",
      "Epoch 34\n",
      "-------------------------------\n",
      "loss: 0.001400  [    0/60000]\n",
      "loss: 0.352971  [ 6400/60000]\n",
      "loss: 0.349866  [12800/60000]\n",
      "loss: 0.342835  [19200/60000]\n",
      "loss: 0.355353  [25600/60000]\n",
      "loss: 0.356127  [32000/60000]\n",
      "loss: 0.329785  [38400/60000]\n",
      "loss: 0.331013  [44800/60000]\n",
      "loss: 0.316419  [51200/60000]\n",
      "loss: 0.359545  [57600/60000]\n",
      "Epoch 35\n",
      "-------------------------------\n",
      "loss: 0.001604  [    0/60000]\n",
      "loss: 0.371130  [ 6400/60000]\n",
      "loss: 0.347105  [12800/60000]\n",
      "loss: 0.345819  [19200/60000]\n",
      "loss: 0.331963  [25600/60000]\n",
      "loss: 0.343829  [32000/60000]\n",
      "loss: 0.335605  [38400/60000]\n",
      "loss: 0.324708  [44800/60000]\n",
      "loss: 0.320777  [51200/60000]\n",
      "loss: 0.337957  [57600/60000]\n",
      "Epoch 36\n",
      "-------------------------------\n",
      "loss: 0.002155  [    0/60000]\n",
      "loss: 0.347480  [ 6400/60000]\n",
      "loss: 0.337643  [12800/60000]\n",
      "loss: 0.328579  [19200/60000]\n",
      "loss: 0.329697  [25600/60000]\n",
      "loss: 0.337159  [32000/60000]\n",
      "loss: 0.334981  [38400/60000]\n",
      "loss: 0.340925  [44800/60000]\n",
      "loss: 0.315239  [51200/60000]\n",
      "loss: 0.340345  [57600/60000]\n",
      "Epoch 37\n",
      "-------------------------------\n",
      "loss: 0.003667  [    0/60000]\n",
      "loss: 0.335052  [ 6400/60000]\n",
      "loss: 0.327193  [12800/60000]\n",
      "loss: 0.333366  [19200/60000]\n",
      "loss: 0.324112  [25600/60000]\n",
      "loss: 0.332130  [32000/60000]\n",
      "loss: 0.345287  [38400/60000]\n",
      "loss: 0.333226  [44800/60000]\n",
      "loss: 0.323802  [51200/60000]\n",
      "loss: 0.334902  [57600/60000]\n",
      "Epoch 38\n",
      "-------------------------------\n",
      "loss: 0.003994  [    0/60000]\n",
      "loss: 0.322510  [ 6400/60000]\n",
      "loss: 0.333931  [12800/60000]\n",
      "loss: 0.332666  [19200/60000]\n",
      "loss: 0.332874  [25600/60000]\n",
      "loss: 0.336781  [32000/60000]\n",
      "loss: 0.313648  [38400/60000]\n",
      "loss: 0.341339  [44800/60000]\n",
      "loss: 0.322389  [51200/60000]\n",
      "loss: 0.331545  [57600/60000]\n",
      "Epoch 39\n",
      "-------------------------------\n",
      "loss: 0.006874  [    0/60000]\n",
      "loss: 0.317415  [ 6400/60000]\n",
      "loss: 0.308689  [12800/60000]\n",
      "loss: 0.332537  [19200/60000]\n",
      "loss: 0.340182  [25600/60000]\n",
      "loss: 0.317673  [32000/60000]\n",
      "loss: 0.325201  [38400/60000]\n",
      "loss: 0.327752  [44800/60000]\n",
      "loss: 0.324737  [51200/60000]\n",
      "loss: 0.327739  [57600/60000]\n",
      "Epoch 40\n",
      "-------------------------------\n",
      "loss: 0.002940  [    0/60000]\n",
      "loss: 0.313201  [ 6400/60000]\n",
      "loss: 0.330132  [12800/60000]\n",
      "loss: 0.335878  [19200/60000]\n",
      "loss: 0.314558  [25600/60000]\n",
      "loss: 0.317799  [32000/60000]\n",
      "loss: 0.325055  [38400/60000]\n",
      "loss: 0.318644  [44800/60000]\n",
      "loss: 0.310555  [51200/60000]\n",
      "loss: 0.329537  [57600/60000]\n",
      "Epoch 41\n",
      "-------------------------------\n",
      "loss: 0.003618  [    0/60000]\n",
      "loss: 0.318012  [ 6400/60000]\n",
      "loss: 0.316813  [12800/60000]\n",
      "loss: 0.322753  [19200/60000]\n",
      "loss: 0.324077  [25600/60000]\n",
      "loss: 0.319309  [32000/60000]\n",
      "loss: 0.311599  [38400/60000]\n",
      "loss: 0.322327  [44800/60000]\n",
      "loss: 0.312395  [51200/60000]\n",
      "loss: 0.322288  [57600/60000]\n",
      "Epoch 42\n",
      "-------------------------------\n",
      "loss: 0.002749  [    0/60000]\n",
      "loss: 0.308529  [ 6400/60000]\n",
      "loss: 0.306965  [12800/60000]\n",
      "loss: 0.319840  [19200/60000]\n",
      "loss: 0.304544  [25600/60000]\n",
      "loss: 0.338712  [32000/60000]\n",
      "loss: 0.323683  [38400/60000]\n",
      "loss: 0.327984  [44800/60000]\n",
      "loss: 0.307608  [51200/60000]\n",
      "loss: 0.313402  [57600/60000]\n",
      "Epoch 43\n",
      "-------------------------------\n",
      "loss: 0.001620  [    0/60000]\n",
      "loss: 0.323770  [ 6400/60000]\n",
      "loss: 0.308883  [12800/60000]\n",
      "loss: 0.310394  [19200/60000]\n",
      "loss: 0.294673  [25600/60000]\n",
      "loss: 0.309948  [32000/60000]\n",
      "loss: 0.323246  [38400/60000]\n",
      "loss: 0.316284  [44800/60000]\n",
      "loss: 0.323325  [51200/60000]\n",
      "loss: 0.320094  [57600/60000]\n",
      "Epoch 44\n",
      "-------------------------------\n",
      "loss: 0.001833  [    0/60000]\n",
      "loss: 0.322391  [ 6400/60000]\n",
      "loss: 0.313742  [12800/60000]\n",
      "loss: 0.315402  [19200/60000]\n",
      "loss: 0.306744  [25600/60000]\n",
      "loss: 0.313834  [32000/60000]\n",
      "loss: 0.306950  [38400/60000]\n",
      "loss: 0.302204  [44800/60000]\n",
      "loss: 0.315580  [51200/60000]\n",
      "loss: 0.305791  [57600/60000]\n",
      "Epoch 45\n",
      "-------------------------------\n",
      "loss: 0.001750  [    0/60000]\n",
      "loss: 0.316867  [ 6400/60000]\n",
      "loss: 0.306879  [12800/60000]\n",
      "loss: 0.301539  [19200/60000]\n",
      "loss: 0.322953  [25600/60000]\n",
      "loss: 0.302199  [32000/60000]\n",
      "loss: 0.312096  [38400/60000]\n",
      "loss: 0.312058  [44800/60000]\n",
      "loss: 0.309939  [51200/60000]\n",
      "loss: 0.293110  [57600/60000]\n",
      "Epoch 46\n",
      "-------------------------------\n",
      "loss: 0.002153  [    0/60000]\n",
      "loss: 0.313719  [ 6400/60000]\n",
      "loss: 0.303203  [12800/60000]\n",
      "loss: 0.303076  [19200/60000]\n",
      "loss: 0.314194  [25600/60000]\n",
      "loss: 0.296549  [32000/60000]\n",
      "loss: 0.288410  [38400/60000]\n",
      "loss: 0.318731  [44800/60000]\n",
      "loss: 0.312930  [51200/60000]\n",
      "loss: 0.297250  [57600/60000]\n",
      "Epoch 47\n",
      "-------------------------------\n",
      "loss: 0.003836  [    0/60000]\n",
      "loss: 0.308630  [ 6400/60000]\n",
      "loss: 0.297237  [12800/60000]\n",
      "loss: 0.287959  [19200/60000]\n",
      "loss: 0.297956  [25600/60000]\n",
      "loss: 0.298513  [32000/60000]\n",
      "loss: 0.299202  [38400/60000]\n",
      "loss: 0.306128  [44800/60000]\n",
      "loss: 0.318081  [51200/60000]\n",
      "loss: 0.312382  [57600/60000]\n",
      "Epoch 48\n",
      "-------------------------------\n",
      "loss: 0.002855  [    0/60000]\n",
      "loss: 0.314263  [ 6400/60000]\n",
      "loss: 0.291434  [12800/60000]\n",
      "loss: 0.294166  [19200/60000]\n",
      "loss: 0.292962  [25600/60000]\n",
      "loss: 0.313374  [32000/60000]\n",
      "loss: 0.310359  [38400/60000]\n",
      "loss: 0.293414  [44800/60000]\n",
      "loss: 0.300681  [51200/60000]\n",
      "loss: 0.295522  [57600/60000]\n",
      "Epoch 49\n",
      "-------------------------------\n",
      "loss: 0.003307  [    0/60000]\n",
      "loss: 0.280879  [ 6400/60000]\n",
      "loss: 0.312145  [12800/60000]\n",
      "loss: 0.311884  [19200/60000]\n",
      "loss: 0.314319  [25600/60000]\n",
      "loss: 0.303616  [32000/60000]\n",
      "loss: 0.290471  [38400/60000]\n",
      "loss: 0.289279  [44800/60000]\n",
      "loss: 0.286040  [51200/60000]\n",
      "loss: 0.295315  [57600/60000]\n",
      "Epoch 50\n",
      "-------------------------------\n",
      "loss: 0.003764  [    0/60000]\n",
      "loss: 0.304915  [ 6400/60000]\n",
      "loss: 0.279075  [12800/60000]\n",
      "loss: 0.291875  [19200/60000]\n",
      "loss: 0.296271  [25600/60000]\n",
      "loss: 0.296420  [32000/60000]\n",
      "loss: 0.290352  [38400/60000]\n",
      "loss: 0.281998  [44800/60000]\n",
      "loss: 0.306133  [51200/60000]\n",
      "loss: 0.306413  [57600/60000]\n",
      "Done!\n"
     ]
    }
   ],
   "source": [
    "epochs = 50\n",
    "for t in range(epochs):\n",
    "    print(f\"Epoch {t+1}\\n-------------------------------\")\n",
    "    train(train_dataloader, model, loss_fn, optimizer)\n",
    "print(\"Done!\")"
   ]
  },
  {
   "cell_type": "markdown",
   "metadata": {
    "id": "T9JJWT1A8zvX"
   },
   "source": [
    "# Test the model  ``eval()``\n",
    "\n",
    "### Define **test()** function\n",
    "Using ``eval()`` for test. Evaluate mode로 전환\n",
    "This function can be reused in other tutorials"
   ]
  },
  {
   "cell_type": "code",
   "execution_count": 55,
   "metadata": {
    "ExecuteTime": {
     "end_time": "2024-04-29T06:19:35.300215Z",
     "start_time": "2024-04-29T06:19:35.288213Z"
    },
    "id": "xvmC5oFs72SC"
   },
   "outputs": [],
   "source": [
    "def test(dataloader, model, loss_fn):\n",
    "    # Dataset Size\n",
    "    size = len(dataloader.dataset)\n",
    "\n",
    "    # Batch Size\n",
    "    num_batches = len(dataloader)\n",
    "    \n",
    "    # Model in Evaluation Mode\n",
    "    model.eval()\n",
    "\n",
    "    test_loss, correctN = 0, 0\n",
    "    \n",
    "    # Disable grad() computation to reduce memory consumption.\n",
    "    with torch.no_grad():\n",
    "        for X, y in dataloader:\n",
    "            X, y = X.to(device), y.to(device)\n",
    "            \n",
    "            # Compute average prediction loss \n",
    "            pred = model(X)            \n",
    "            test_loss += loss_fn(pred, y).item()\n",
    "\n",
    "            # Predict Label\n",
    "            y_pred=pred.argmax(1);\n",
    "            correctN += (y_pred == y).type(torch.float).sum().item()\n",
    "            \n",
    "    test_loss /= num_batches\n",
    "    correctN /= size\n",
    "    print(f\"Test Error: \\n Accuracy: {(100*correctN):>0.1f}%, Avg loss: {test_loss:>8f} \\n\")\n",
    "\n"
   ]
  },
  {
   "cell_type": "markdown",
   "metadata": {
    "id": "Lc_uKTg685fR"
   },
   "source": [
    "### Test\n",
    "Print test data accuracy"
   ]
  },
  {
   "cell_type": "code",
   "execution_count": 56,
   "metadata": {
    "ExecuteTime": {
     "end_time": "2024-04-29T06:19:42.931521Z",
     "start_time": "2024-04-29T06:19:41.487939Z"
    },
    "colab": {
     "base_uri": "https://localhost:8080/"
    },
    "id": "3AyUVhP58U4W",
    "outputId": "0a1f3ca4-f6fa-4cb0-988b-f61199c24fd5"
   },
   "outputs": [
    {
     "name": "stderr",
     "output_type": "stream",
     "text": [
      "C:\\Users\\Sangheon\\AppData\\Local\\Temp\\ipykernel_29672\\889195615.py:15: UserWarning: Implicit dimension choice for log_softmax has been deprecated. Change the call to include dim=X as an argument.\n",
      "  y_pred = F.log_softmax(self.linear3(x))\n"
     ]
    },
    {
     "name": "stdout",
     "output_type": "stream",
     "text": [
      "Test Error: \n",
      " Accuracy: 91.8%, Avg loss: 0.284934 \n",
      "\n"
     ]
    }
   ],
   "source": [
    "test(test_dataloader, model, loss_fn)"
   ]
  },
  {
   "cell_type": "markdown",
   "metadata": {
    "id": "7reJNX_fMgwG"
   },
   "source": [
    "### Visualize Evaluation Results\n",
    "\n",
    "Select random test images and evaluate"
   ]
  },
  {
   "cell_type": "code",
   "execution_count": 57,
   "metadata": {
    "ExecuteTime": {
     "end_time": "2024-04-29T06:20:01.817535Z",
     "start_time": "2024-04-29T06:20:01.166251Z"
    },
    "colab": {
     "base_uri": "https://localhost:8080/"
    },
    "id": "zpVhWXBYMlYh",
    "outputId": "ca332027-e51a-4632-92b9-be0bcfd9be1b"
   },
   "outputs": [
    {
     "name": "stdout",
     "output_type": "stream",
     "text": [
      "torch.Size([64, 1, 28, 28])\n"
     ]
    },
    {
     "name": "stderr",
     "output_type": "stream",
     "text": [
      "C:\\Users\\Sangheon\\AppData\\Local\\Temp\\ipykernel_29672\\889195615.py:15: UserWarning: Implicit dimension choice for log_softmax has been deprecated. Change the call to include dim=X as an argument.\n",
      "  y_pred = F.log_softmax(self.linear3(x))\n"
     ]
    }
   ],
   "source": [
    "# Get some random test  images // BatchSize at a time\n",
    "dataiter = iter(test_dataloader)\n",
    "images, labels = next(dataiter)\n",
    "print(images.size())\n",
    "\n",
    "# Evaluate mode\n",
    "# Prediction of some sample images \n",
    "images, labels = images.to(device), labels.to(device)\n",
    "with torch.no_grad():\n",
    "    pred = model(images)\n",
    "    _, predicted = torch.max(pred.data, 1)\n"
   ]
  },
  {
   "cell_type": "markdown",
   "metadata": {
    "id": "J8Lnx8mKRo_c"
   },
   "source": [
    "Plot some test image results"
   ]
  },
  {
   "cell_type": "code",
   "execution_count": 58,
   "metadata": {
    "ExecuteTime": {
     "end_time": "2024-04-29T06:20:10.469072Z",
     "start_time": "2024-04-29T06:20:10.272105Z"
    },
    "colab": {
     "base_uri": "https://localhost:8080/",
     "height": 264
    },
    "id": "PUfby6DlRoXW",
    "outputId": "2dd5d6ea-1c9b-4f6e-e7ce-550d6fcef775"
   },
   "outputs": [
    {
     "data": {
      "image/png": "[encoded data removed]",
      "text/plain": [
       "<Figure size 640x480 with 9 Axes>"
      ]
     },
     "metadata": {},
     "output_type": "display_data"
    }
   ],
   "source": [
    "# Plot \n",
    "figure = plt.figure()\n",
    "num_of_images = 9\n",
    "for index in range(num_of_images):\n",
    "    plt.subplot(3, 3, index+1)\n",
    "    plt.axis('off')\n",
    "    plt.title(\"Predicted: {}\".format(predicted[index].item()))\n",
    "    plt.imshow(images[index].cpu().numpy().squeeze(), cmap='gray_r')"
   ]
  },
  {
   "cell_type": "markdown",
   "metadata": {
    "id": "s1Y-krgJinAp"
   },
   "source": [
    "### Saving Models\n",
    "(Option 1) Save Model with Shapes\n",
    "* save the structure of this class together with the model"
   ]
  },
  {
   "cell_type": "code",
   "execution_count": 59,
   "metadata": {
    "ExecuteTime": {
     "end_time": "2024-04-29T06:20:15.615847Z",
     "start_time": "2024-04-29T06:20:15.599763Z"
    },
    "colab": {
     "base_uri": "https://localhost:8080/"
    },
    "id": "_f9tXsz9KxDx",
    "outputId": "a4319e72-c21c-4a3f-9600-fa08c662fa09"
   },
   "outputs": [],
   "source": [
    "torch.save(model,\"MNIST_model.pth\")"
   ]
  },
  {
   "cell_type": "markdown",
   "metadata": {
    "id": "a-K0cBwkK1OI"
   },
   "source": [
    "(Option 2) Save Model Weight as  state dictionary"
   ]
  },
  {
   "cell_type": "code",
   "execution_count": 60,
   "metadata": {
    "ExecuteTime": {
     "end_time": "2024-04-29T06:20:18.376957Z",
     "start_time": "2024-04-29T06:20:18.368946Z"
    },
    "id": "69luqmxDgkqK"
   },
   "outputs": [
    {
     "name": "stdout",
     "output_type": "stream",
     "text": [
      "Saved PyTorch Model State\n"
     ]
    }
   ],
   "source": [
    "torch.save(model.state_dict(), \"MNIST_model2.pth\")\n",
    "print(\"Saved PyTorch Model State\")"
   ]
  },
  {
   "cell_type": "markdown",
   "metadata": {},
   "source": [
    "### Load the pretrained model\n",
    "\n",
    "(Option 1) Loading a model with structures "
   ]
  },
  {
   "cell_type": "code",
   "execution_count": 61,
   "metadata": {},
   "outputs": [
    {
     "data": {
      "text/plain": [
       "MLP(\n",
       "  (flatten): Flatten(start_dim=1, end_dim=-1)\n",
       "  (linear1): Linear(in_features=784, out_features=250, bias=True)\n",
       "  (linear2): Linear(in_features=250, out_features=100, bias=True)\n",
       "  (linear3): Linear(in_features=100, out_features=10, bias=True)\n",
       ")"
      ]
     },
     "execution_count": 61,
     "metadata": {},
     "output_type": "execute_result"
    }
   ],
   "source": [
    "model = torch.load(\"MNIST_model.pth\", weights_only=False)\n",
    "model.eval()"
   ]
  },
  {
   "cell_type": "markdown",
   "metadata": {},
   "source": [
    "(Option 2) Loading a model includes re-creating the model structure and loading the state dictionary into it.\n",
    "\n",
    "* Need to `import` or define the Network Structure"
   ]
  },
  {
   "cell_type": "code",
   "execution_count": 62,
   "metadata": {},
   "outputs": [],
   "source": [
    "class MLP(nn.Module):\n",
    "    def __init__(self):\n",
    "        super(MLP, self).__init__()\n",
    "        self.flatten = nn.Flatten()\n",
    "        self.linear1 = nn.Linear(28*28, 250)\n",
    "        self.linear2 = nn.Linear(250, 100)\n",
    "        self.linear3 = nn.Linear(100, 10)\n",
    "\n",
    "        \n",
    "    def forward(self, x):\n",
    "        x=self.flatten(x)\n",
    "        x= F.relu(self.linear1(x))\n",
    "        x = F.relu(self.linear2(x))\n",
    "        y_pred = F.log_softmax(self.linear3(x))\n",
    "        return y_pred"
   ]
  },
  {
   "cell_type": "code",
   "execution_count": 63,
   "metadata": {},
   "outputs": [
    {
     "name": "stdout",
     "output_type": "stream",
     "text": [
      "MLP(\n",
      "  (flatten): Flatten(start_dim=1, end_dim=-1)\n",
      "  (linear1): Linear(in_features=784, out_features=250, bias=True)\n",
      "  (linear2): Linear(in_features=250, out_features=100, bias=True)\n",
      "  (linear3): Linear(in_features=100, out_features=10, bias=True)\n",
      ")\n"
     ]
    },
    {
     "data": {
      "text/plain": [
       "MLP(\n",
       "  (flatten): Flatten(start_dim=1, end_dim=-1)\n",
       "  (linear1): Linear(in_features=784, out_features=250, bias=True)\n",
       "  (linear2): Linear(in_features=250, out_features=100, bias=True)\n",
       "  (linear3): Linear(in_features=100, out_features=10, bias=True)\n",
       ")"
      ]
     },
     "execution_count": 63,
     "metadata": {},
     "output_type": "execute_result"
    }
   ],
   "source": [
    "model2 = MLP().to(device)\n",
    "print(model2)\n",
    "model2.load_state_dict(torch.load('MNIST_model2.pth'))\n",
    "model2.eval()"
   ]
  },
  {
   "cell_type": "markdown",
   "metadata": {},
   "source": [
    "### Test \n",
    "Print test data accuracy "
   ]
  },
  {
   "cell_type": "code",
   "execution_count": 64,
   "metadata": {},
   "outputs": [
    {
     "name": "stderr",
     "output_type": "stream",
     "text": [
      "C:\\Users\\Sangheon\\AppData\\Local\\Temp\\ipykernel_29672\\889195615.py:15: UserWarning: Implicit dimension choice for log_softmax has been deprecated. Change the call to include dim=X as an argument.\n",
      "  y_pred = F.log_softmax(self.linear3(x))\n"
     ]
    },
    {
     "name": "stdout",
     "output_type": "stream",
     "text": [
      "Test Error: \n",
      " Accuracy: 91.8%, Avg loss: 0.285123 \n",
      "\n"
     ]
    }
   ],
   "source": [
    "test(test_dataloader, model, loss_fn)"
   ]
  },
  {
   "cell_type": "markdown",
   "metadata": {},
   "source": [
    "### Visualize test results\n",
    "\n",
    "Select random test images and evaluate"
   ]
  },
  {
   "cell_type": "code",
   "execution_count": 65,
   "metadata": {},
   "outputs": [
    {
     "name": "stdout",
     "output_type": "stream",
     "text": [
      "torch.Size([64, 1, 28, 28])\n"
     ]
    },
    {
     "name": "stderr",
     "output_type": "stream",
     "text": [
      "C:\\Users\\Sangheon\\AppData\\Local\\Temp\\ipykernel_29672\\889195615.py:15: UserWarning: Implicit dimension choice for log_softmax has been deprecated. Change the call to include dim=X as an argument.\n",
      "  y_pred = F.log_softmax(self.linear3(x))\n"
     ]
    }
   ],
   "source": [
    "# Get some random test  images // BatchSize at a time\n",
    "dataiter = iter(test_dataloader)\n",
    "images, labels = next(dataiter)\n",
    "print(images.size())\n",
    "\n",
    "# Evaluate mode\n",
    "# Prediction of some sample images \n",
    "images, labels = images.to(device), labels.to(device)\n",
    "with torch.no_grad():\n",
    "    pred = model(images)\n",
    "    _, predicted = torch.max(pred.data, 1)"
   ]
  },
  {
   "cell_type": "markdown",
   "metadata": {},
   "source": [
    "Plot some test image results"
   ]
  },
  {
   "cell_type": "code",
   "execution_count": 66,
   "metadata": {},
   "outputs": [
    {
     "data": {
      "image/png": "[encoded data removed]",
      "text/plain": [
       "<Figure size 640x480 with 9 Axes>"
      ]
     },
     "metadata": {},
     "output_type": "display_data"
    }
   ],
   "source": [
    "figure = plt.figure()\n",
    "num_of_images = 9\n",
    "for index in range(num_of_images):\n",
    "    plt.subplot(3, 3, index+1)\n",
    "    plt.axis('off')    \n",
    "    plt.title(\"Predicted: {}\".format(predicted[index].item()))\n",
    "    plt.imshow(images[index].cpu().numpy().squeeze(), cmap='gray_r')"
   ]
  },
  {
   "cell_type": "markdown",
   "metadata": {
    "id": "dBdmu3Z4K3LZ"
   },
   "source": [
    "\n",
    "\n",
    "---\n",
    "\n"
   ]
  },
  {
   "cell_type": "markdown",
   "metadata": {
    "id": "xi-1ht0d-SbX"
   },
   "source": [
    "# Exercise"
   ]
  },
  {
   "cell_type": "markdown",
   "metadata": {
    "id": "_irKEtZP9bmB"
   },
   "source": [
    "\n",
    "## Exercise 1\n",
    "Change, activation functions and optimization types for a better output."
   ]
  },
  {
   "cell_type": "code",
   "execution_count": 67,
   "metadata": {},
   "outputs": [
    {
     "name": "stdout",
     "output_type": "stream",
     "text": [
      "MLP(\n",
      "  (flatten): Flatten(start_dim=1, end_dim=-1)\n",
      "  (linear1): Linear(in_features=784, out_features=128, bias=True)\n",
      "  (linear2): Linear(in_features=128, out_features=64, bias=True)\n",
      "  (linear3): Linear(in_features=64, out_features=10, bias=True)\n",
      ")\n"
     ]
    }
   ],
   "source": [
    "# Model Architecture\n",
    "class MLP(nn.Module):\n",
    "    def __init__(self):\n",
    "        super(MLP, self).__init__()\n",
    "        self.flatten = nn.Flatten()\n",
    "        self.linear1 = nn.Linear(28*28, 128)\n",
    "        self.linear2 = nn.Linear(128, 64)\n",
    "        self.linear3 = nn.Linear(64, 10)\n",
    "\n",
    "\n",
    "    def forward(self, x):\n",
    "        x=self.flatten(x)\n",
    "        x= F.relu(self.linear1(x))\n",
    "        x = F.relu(self.linear2(x))\n",
    "        y_pred = F.log_softmax(self.linear3(x))\n",
    "        return y_pred\n",
    "\n",
    "\n",
    "model = MLP().to(device)\n",
    "print(model)"
   ]
  },
  {
   "cell_type": "code",
   "execution_count": null,
   "metadata": {},
   "outputs": [],
   "source": [
    "# Loss Function\n",
    "loss_fn = nn.CrossEntropyLoss()\n",
    "\n",
    "# Optimizer\n",
    "optimizer = torch.optim.Adam(model.parameters(), lr=1e-3)"
   ]
  },
  {
   "cell_type": "code",
   "execution_count": null,
   "metadata": {},
   "outputs": [],
   "source": [
    "# Train Module\n",
    "def train(dataloader, model, loss_fn, optimizer):\n",
    "    # Dataset Size\n",
    "    size = len(dataloader.dataset)\n",
    "    \n",
    "    # Model in Training Mode\n",
    "    model.train()\n",
    "\n",
    "    running_loss=0.0\n",
    "\n",
    "    for batch, (X, y) in enumerate(dataloader):\n",
    "        X, y = X.to(device), y.to(device)\n",
    "\n",
    "        # zero gradients for every batch\n",
    "        optimizer.zero_grad()   \n",
    "\n",
    "        # Compute prediction loss \n",
    "        pred = model(X)\n",
    "        loss = loss_fn(pred, y)\n",
    "\n",
    "        # Backpropagation and Update        \n",
    "        loss.backward()\n",
    "        optimizer.step()        \n",
    "\n",
    "        # Print loss for every 100 batch in an epoch\n",
    "        running_loss+=loss.item()\n",
    "        if batch % 100 == 0:\n",
    "            running_loss=running_loss/100\n",
    "            current = batch * len(X)\n",
    "            print(f\"loss: {running_loss:>7f}  [{current:>5d}/{size:>5d}]\")\n",
    "            running_loss=0"
   ]
  },
  {
   "cell_type": "code",
   "execution_count": null,
   "metadata": {},
   "outputs": [],
   "source": [
    "epochs = 10\n",
    "for t in range(epochs):\n",
    "    print(f\"Epoch {t+1}\\n-------------------------------\")\n",
    "    train(train_dataloader, model, loss_fn, optimizer)\n",
    "print(\"Done!\")"
   ]
  },
  {
   "cell_type": "code",
   "execution_count": null,
   "metadata": {},
   "outputs": [],
   "source": [
    "def test(dataloader, model, loss_fn):\n",
    "    # Dataset Size\n",
    "    size = len(dataloader.dataset)\n",
    "\n",
    "    # Batch Size\n",
    "    num_batches = len(dataloader)\n",
    "    \n",
    "    # Model in Evaluation Mode\n",
    "    model.eval()\n",
    "\n",
    "    test_loss, correctN = 0, 0\n",
    "    \n",
    "    # Disable grad() computation to reduce memory consumption.\n",
    "    with torch.no_grad():\n",
    "        for X, y in dataloader:\n",
    "            X, y = X.to(device), y.to(device)\n",
    "            \n",
    "            # Compute average prediction loss \n",
    "            pred = model(X)            \n",
    "            test_loss += loss_fn(pred, y).item()\n",
    "\n",
    "            # Predict Label\n",
    "            y_pred=pred.argmax(1);\n",
    "            correctN += (y_pred == y).type(torch.float).sum().item()\n",
    "            \n",
    "    test_loss /= num_batches\n",
    "    correctN /= size\n",
    "    print(f\"Test Error: \\n Accuracy: {(100*correctN):>0.1f}%, Avg loss: {test_loss:>8f} \\n\")"
   ]
  },
  {
   "cell_type": "code",
   "execution_count": null,
   "metadata": {},
   "outputs": [],
   "source": [
    "test(test_dataloader, model, loss_fn)"
   ]
  },
  {
   "cell_type": "markdown",
   "metadata": {
    "id": "qSVSgxzq-GbI"
   },
   "source": [
    "## Exercise 2\n",
    "Rewrite  the above MLP model as the following.\n",
    "\n",
    "![](https://raw.githubusercontent.com/dmlc/web-data/master/mxnet/image/mlp_mnist.png)\n",
    "\n"
   ]
  }
 ],
 "metadata": {
  "colab": {
   "name": "Tutorial_PyTorch_MNIST_MLP_Part1_Train.ipynb",
   "provenance": []
  },
  "kernelspec": {
   "display_name": "py39",
   "language": "python",
   "name": "python3"
  },
  "language_info": {
   "codemirror_mode": {
    "name": "ipython",
    "version": 3
   },
   "file_extension": ".py",
   "mimetype": "text/x-python",
   "name": "python",
   "nbconvert_exporter": "python",
   "pygments_lexer": "ipython3",
   "version": "3.9.22"
  }
 },
 "nbformat": 4,
 "nbformat_minor": 0
}
