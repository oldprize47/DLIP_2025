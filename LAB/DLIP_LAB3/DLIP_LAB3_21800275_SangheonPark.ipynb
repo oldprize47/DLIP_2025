{
 "cells": [
  {
   "cell_type": "code",
   "execution_count": 2,
   "id": "5a85591a",
   "metadata": {},
   "outputs": [],
   "source": [
    "import numpy as np\n",
    "import cv2 as cv\n",
    "from matplotlib import pyplot as plt\n",
    "\n",
    "img = cv.imread('../../Image/Challenging_Dataset/LV1.png')\n",
    "\n",
    "cv.namedWindow('source', cv.WINDOW_NORMAL)\n",
    "cv.imshow('source',img)\n",
    "cv.waitKey(0)\n",
    "\n",
    "while True:\n",
    "    key = cv.waitKey(1) & 0xFF\n",
    "    if key == 27:  # ESC key\n",
    "        break\n",
    "\n",
    "cv.destroyAllWindows()"
   ]
  }
 ],
 "metadata": {
  "kernelspec": {
   "display_name": "py39",
   "language": "python",
   "name": "python3"
  },
  "language_info": {
   "codemirror_mode": {
    "name": "ipython",
    "version": 3
   },
   "file_extension": ".py",
   "mimetype": "text/x-python",
   "name": "python",
   "nbconvert_exporter": "python",
   "pygments_lexer": "ipython3",
   "version": "3.9.21"
  }
 },
 "nbformat": 4,
 "nbformat_minor": 5
}
